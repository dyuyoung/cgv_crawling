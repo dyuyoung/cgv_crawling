{
  "nbformat": 4,
  "nbformat_minor": 0,
  "metadata": {
    "colab": {
      "name": "Untitled32.ipynb",
      "provenance": [],
      "authorship_tag": "ABX9TyOWeDC5HNP2c4T7CyvE45Zj",
      "include_colab_link": true
    },
    "kernelspec": {
      "name": "python3",
      "display_name": "Python 3"
    },
    "language_info": {
      "name": "python"
    }
  },
  "cells": [
    {
      "cell_type": "markdown",
      "metadata": {
        "id": "view-in-github",
        "colab_type": "text"
      },
      "source": [
        "<a href=\"https://colab.research.google.com/github/dyuyoung/cgv_crawling/blob/main/Untitled32.ipynb\" target=\"_parent\"><img src=\"https://colab.research.google.com/assets/colab-badge.svg\" alt=\"Open In Colab\"/></a>"
      ]
    },
    {
      "cell_type": "code",
      "execution_count": null,
      "metadata": {
        "id": "X_6SGDb2BIRZ"
      },
      "outputs": [],
      "source": [
        "from urllib.request import urlopen\n",
        "from bs4 import BeautifulSoup as bs\n",
        "\n",
        "url=\"http://www.cgv.co.kr/movies/?lt=1&ft=0\"\n",
        "html=urlopen(url).read()\n",
        "\n",
        "\n",
        "soup=bs(html, \"lxml\")\n",
        "\n",
        "movies=soup.find_all(\"span\", attrs={\"class\":\"txt-info\"})\n",
        "print(\"<무비차트>----예매율 순\")\n",
        "k=[]\n",
        "for movie in movies :\n",
        "  k.append(movie.get_text('\\n'))\n",
        "for i in range(1, 20) :\n",
        "  print(i, k[i-1])"
      ]
    }
  ]
}